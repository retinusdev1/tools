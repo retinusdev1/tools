{
  "nbformat": 4,
  "nbformat_minor": 0,
  "metadata": {
    "colab": {
      "name": "dl_youtube.ipynb",
      "provenance": [],
      "collapsed_sections": []
    },
    "kernelspec": {
      "name": "python3",
      "display_name": "Python 3"
    }
  },
  "cells": [
    {
      "cell_type": "code",
      "metadata": {
        "colab": {
          "base_uri": "https://localhost:8080/"
        },
        "id": "dxhr8QXHWWjc",
        "outputId": "f56c65df-af59-4621-b3ec-e42eb4582705"
      },
      "source": [
        "!python --version"
      ],
      "execution_count": null,
      "outputs": [
        {
          "output_type": "stream",
          "text": [
            "Python 3.7.10\n"
          ],
          "name": "stdout"
        }
      ]
    },
    {
      "cell_type": "markdown",
      "metadata": {
        "id": "q5lt7Sl6Wb4P"
      },
      "source": [
        ""
      ]
    },
    {
      "cell_type": "code",
      "metadata": {
        "colab": {
          "base_uri": "https://localhost:8080/"
        },
        "id": "UboYpAyJWcXA",
        "outputId": "c09e70e0-470d-4cab-cc46-fdf85edb2ea6"
      },
      "source": [
        "!pip install pytube"
      ],
      "execution_count": null,
      "outputs": [
        {
          "output_type": "stream",
          "text": [
            "Collecting pytube\n",
            "\u001b[?25l  Downloading https://files.pythonhosted.org/packages/91/96/0cc31cb18fda662a5ae235dff33ad66dfbc94bf46f19e9e22cb1960b3253/pytube-10.7.2-py3-none-any.whl (42kB)\n",
            "\r\u001b[K     |███████▋                        | 10kB 14.9MB/s eta 0:00:01\r\u001b[K     |███████████████▎                | 20kB 21.0MB/s eta 0:00:01\r\u001b[K     |███████████████████████         | 30kB 11.3MB/s eta 0:00:01\r\u001b[K     |██████████████████████████████▌ | 40kB 10.4MB/s eta 0:00:01\r\u001b[K     |████████████████████████████████| 51kB 4.0MB/s \n",
            "\u001b[?25hInstalling collected packages: pytube\n",
            "Successfully installed pytube-10.7.2\n"
          ],
          "name": "stdout"
        }
      ]
    },
    {
      "cell_type": "markdown",
      "metadata": {
        "id": "O5wK9P6WWkjy"
      },
      "source": [
        ""
      ]
    },
    {
      "cell_type": "code",
      "metadata": {
        "id": "NE-jZsqWWk4Y"
      },
      "source": [
        "from pytube import YouTube"
      ],
      "execution_count": null,
      "outputs": []
    },
    {
      "cell_type": "markdown",
      "metadata": {
        "id": "rzUjAx4QWeag"
      },
      "source": [
        ""
      ]
    },
    {
      "cell_type": "code",
      "metadata": {
        "colab": {
          "base_uri": "https://localhost:8080/"
        },
        "id": "R0FaUqyUWe0j",
        "outputId": "fa7041bd-e95c-40a2-d891-b662750e8bcc"
      },
      "source": [
        "from google.colab import drive\n",
        "drive.mount('/content/drive')"
      ],
      "execution_count": null,
      "outputs": [
        {
          "output_type": "stream",
          "text": [
            "Mounted at /content/drive\n"
          ],
          "name": "stdout"
        }
      ]
    },
    {
      "cell_type": "markdown",
      "metadata": {
        "id": "4a8PP8LUWh9M"
      },
      "source": [
        ""
      ]
    },
    {
      "cell_type": "code",
      "metadata": {
        "id": "LA3zE-mwXBv9"
      },
      "source": [
        "from pytube import YouTube\n",
        "import os\n",
        "\n",
        "def downloadYouTube(videourl, path):\n",
        "\n",
        "    yt = YouTube(videourl)\n",
        "    yt = yt.streams.filter(progressive=True, file_extension='mp4').order_by('resolution').desc().first()\n",
        "    if not os.path.exists(path):\n",
        "        os.makedirs(path)\n",
        "    yt.download(path)"
      ],
      "execution_count": null,
      "outputs": []
    },
    {
      "cell_type": "markdown",
      "metadata": {
        "id": "XosPHg83XDv1"
      },
      "source": [
        "First link is the youtube URL and then a comma and then the dir that you want to save the video in\n"
      ]
    },
    {
      "cell_type": "code",
      "metadata": {
        "id": "Q5MlDofmXEIO"
      },
      "source": [
        "downloadYouTube('https://www.youtube.com/watch?v=5dHOGsZivIo', '/content/drive/MyDrive/Datasets/uav_dataset')"
      ],
      "execution_count": null,
      "outputs": []
    },
    {
      "cell_type": "code",
      "metadata": {
        "id": "2XWWTFbMOUgN"
      },
      "source": [
        "downloadYouTube('https://www.youtube.com/watch?v=pArbiw6DedI', '/content/drive/MyDrive/Datasets/uav_dataset')"
      ],
      "execution_count": null,
      "outputs": []
    },
    {
      "cell_type": "code",
      "metadata": {
        "id": "1o7QWOxvOVF7"
      },
      "source": [
        "downloadYouTube('https://www.youtube.com/watch?v=pArbiw6DedI', '/content/drive/MyDrive/Datasets/uav_dataset')"
      ],
      "execution_count": null,
      "outputs": []
    }
  ]
}